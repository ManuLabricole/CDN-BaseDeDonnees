{
 "cells": [
  {
   "cell_type": "code",
   "execution_count": 10,
   "id": "c7f9ff79",
   "metadata": {},
   "outputs": [],
   "source": [
    "import pandas as pd\n",
    "import numpy as np\n",
    "import sqlite3 as db"
   ]
  },
  {
   "cell_type": "code",
   "execution_count": 11,
   "id": "71a516fb",
   "metadata": {},
   "outputs": [
    {
     "data": {
      "text/plain": [
       "'/Users/manulabricole/Documents/CDN/BDD'"
      ]
     },
     "execution_count": 11,
     "metadata": {},
     "output_type": "execute_result"
    }
   ],
   "source": [
    "%pwd"
   ]
  },
  {
   "cell_type": "markdown",
   "id": "f4820bf6",
   "metadata": {},
   "source": [
    "# Utils"
   ]
  },
  {
   "cell_type": "markdown",
   "id": "54c9fa3f",
   "metadata": {},
   "source": [
    "### Import des data"
   ]
  },
  {
   "cell_type": "code",
   "execution_count": 12,
   "id": "800dd6ea",
   "metadata": {},
   "outputs": [],
   "source": [
    "routes_df=pd.read_csv('./SEM-GTFS/routes.txt')\n",
    "stops_df=pd.read_csv('./SEM-GTFS/stops.txt')\n",
    "stop_times_df=pd.read_csv('./SEM-GTFS/stop_times.txt')\n",
    "agency_df=pd.read_csv('./SEM-GTFS/agency.txt')\n",
    "trips_df=pd.read_csv('./SEM-GTFS/trips.txt')"
   ]
  },
  {
   "cell_type": "markdown",
   "id": "d2a3943a",
   "metadata": {},
   "source": [
    "### Get infos"
   ]
  },
  {
   "cell_type": "code",
   "execution_count": 17,
   "id": "68cbb211",
   "metadata": {},
   "outputs": [],
   "source": [
    "def get_infos(db_file):\n",
    "    conn = db.connect(db_file)\n",
    "    cur = conn.cursor()\n",
    "    \n",
    "    # Retrieve the names of all tables in the database\n",
    "    cur.execute(\"SELECT name FROM sqlite_master WHERE type='table'\")\n",
    "    tables = [table[0] for table in cur.fetchall()]\n",
    "    \n",
    "    # Retrieve the columns in each table\n",
    "    columns = {}\n",
    "    for table in tables:\n",
    "        cur.execute(\"PRAGMA table_info({})\".format(table))\n",
    "        columns[table] = [column[1] for column in cur.fetchall()]\n",
    "    \n",
    "    cur.close()\n",
    "    conn.close()\n",
    "    print(\"°°°°°°°°°°°°°°°°°°°°°°°°°°°°°°°°°°°°°°°°°°°°°°°°°°°°°°°°°°°°°°°°°°°°°°°°°°°°°°°°°°°°°°°°°°°°°°°°°°°°°°°°°°°°°°°°°°°°°°°°\")\n",
    "    print(\"------------------------------ TABLES --------------------------------\")\n",
    "    print(\"\")\n",
    "    print(\"Tables:\", tables)\n",
    "    print(\"\")\n",
    "    print(\"------------------------------ COLUMNS -------------------------------\")\n",
    "    for table in tables:\n",
    "        print(\"\")\n",
    "        print(f\"----> {table} <----\")\n",
    "        print(\"Columns --> \", columns[table])\n",
    "    print(\"°°°°°°°°°°°°°°°°°°°°°°°°°°°°°°°°°°°°°°°°°°°°°°°°°°°°°°°°°°°°°°°°°°°°°°°°°°°°°°°°°°°°°°°°°°°°°°°°°°°°°°°°°°°°°°°°°°°°°°°°\")"
   ]
  },
  {
   "cell_type": "markdown",
   "id": "cc8b8bda",
   "metadata": {},
   "source": [
    "### Query the DB"
   ]
  },
  {
   "cell_type": "code",
   "execution_count": 26,
   "id": "d19a78f4",
   "metadata": {},
   "outputs": [],
   "source": [
    "# The name has to be in the same folder as the notebook\n",
    "def query_db(name, query):\n",
    "    \n",
    "    conn = db.connect(name)\n",
    "    cur = conn.cursor()\n",
    "    cur.execute(query)\n",
    "    column_names = [description[0] for description in cur.description]\n",
    "    results = cur.fetchall()\n",
    "    cur.close()\n",
    "    conn.close()\n",
    "    \n",
    "    #df_results = pd.DataFrame(results, columns=column_names)\n",
    "\n",
    "    return df_results"
   ]
  },
  {
   "cell_type": "markdown",
   "id": "49c8790b",
   "metadata": {},
   "source": [
    "# I - Implémenter une fonction qui génère une commande insertion SQL"
   ]
  },
  {
   "cell_type": "raw",
   "id": "1270d377",
   "metadata": {},
   "source": [
    "Sa signature est la suivante :\n",
    "def gen_insert_query(table_name:str, a_dict:dict) -> str\n",
    "Les paramètres de cette fonction sont :\n",
    "--> tablename : le nom de la table (e.g. gtfs_stops )\n",
    "--> a_dict : dictionnaire Python\n",
    "Elle retourne une chaîne de caractère qui représente l’insertion SQL."
   ]
  },
  {
   "cell_type": "code",
   "execution_count": 27,
   "id": "94314625",
   "metadata": {},
   "outputs": [],
   "source": [
    "db_name = \"gtfs_tag.db\""
   ]
  },
  {
   "cell_type": "code",
   "execution_count": 46,
   "id": "82598b52",
   "metadata": {},
   "outputs": [
    {
     "name": "stdout",
     "output_type": "stream",
     "text": [
      "°°°°°°°°°°°°°°°°°°°°°°°°°°°°°°°°°°°°°°°°°°°°°°°°°°°°°°°°°°°°°°°°°°°°°°°°°°°°°°°°°°°°°°°°°°°°°°°°°°°°°°°°°°°°°°°°°°°°°°°°\n",
      "------------------------------ TABLES --------------------------------\n",
      "\n",
      "Tables: ['agency', 'route', 'trip', 'stop', 'stop_time', 'calendar']\n",
      "\n",
      "------------------------------ COLUMNS -------------------------------\n",
      "\n",
      "----> agency <----\n",
      "Columns -->  ['agency_id', 'agency_name', 'agency_url', 'agency_timezone', 'agency_lang', 'agency_phone', 'agency_fare_url', 'agency_email']\n",
      "\n",
      "----> route <----\n",
      "Columns -->  ['route_id', 'agency_id', 'route_short_name', 'route_long_name', 'route_desc', 'route_type', 'route_url', 'route_color', 'route_text_color']\n",
      "\n",
      "----> trip <----\n",
      "Columns -->  ['trip_id', 'route_id', 'service_id', 'trip_headsign', 'trip_short_name', 'direction_id', 'block_id', 'shape_id']\n",
      "\n",
      "----> stop <----\n",
      "Columns -->  ['stop_id', 'stop_name', 'stop_lat', 'stop_lon', 'stop_desc', 'zone_id', 'stop_url', 'location_type', 'parent_station', 'wheelchair_boarding']\n",
      "\n",
      "----> stop_time <----\n",
      "Columns -->  ['trip_id', 'arrival_time', 'departure_time', 'stop_id', 'stop_sequence', 'stop_headsign', 'pickup_type', 'drop_off_type', 'shape_dist_traveled', 'timepoint']\n",
      "\n",
      "----> calendar <----\n",
      "Columns -->  ['service_id', 'monday', 'tuesday', 'wednesday', 'thursday', 'friday', 'saturday', 'sunday', 'start_date', 'end_date']\n",
      "°°°°°°°°°°°°°°°°°°°°°°°°°°°°°°°°°°°°°°°°°°°°°°°°°°°°°°°°°°°°°°°°°°°°°°°°°°°°°°°°°°°°°°°°°°°°°°°°°°°°°°°°°°°°°°°°°°°°°°°°\n"
     ]
    }
   ],
   "source": [
    "get_infos(db_name)"
   ]
  },
  {
   "cell_type": "markdown",
   "id": "6260bc55",
   "metadata": {},
   "source": [
    "### Generate dict of data to insert"
   ]
  },
  {
   "cell_type": "code",
   "execution_count": 47,
   "id": "29b42ae5",
   "metadata": {},
   "outputs": [],
   "source": [
    "#Transformation des fichiers en dictionnaires\n",
    "routes_dic=routes_df.to_dict(orient='dict')\n",
    "stops_dic=stops_df.to_dict(orient='dict')\n",
    "stop_times_dic=stop_times_df.to_dict(orient='dict')\n",
    "agency_dic=agency_df.to_dict(orient='dict')\n",
    "trips_dic=trips_df.to_dict(orient='dict')"
   ]
  },
  {
   "cell_type": "code",
   "execution_count": 68,
   "id": "314ace38",
   "metadata": {},
   "outputs": [],
   "source": [
    "# Fonction transformation données mais pas création de fichier sql\n",
    "def gen_insert_query(table_name:str, a_dict:dict) -> str:\n",
    "    #table_name= stops_insert.sql par exple\n",
    "    #df --> attention à gérer les NaN\n",
    "    # https://sql.sh/cours/insert-into\n",
    "    # INSERT INTO table-name (column-names)  VALUES (values) \n",
    "\n",
    "    insert_query_tpl = \"INSERT INTO {} {} VALUES {} \"\n",
    "    keys, values = zip(*a_dict.items())\n",
    "    compiled_query = insert_query_tpl.format(table_name, keys, values)\n",
    "    \n",
    "    return compiled_query"
   ]
  },
  {
   "cell_type": "code",
   "execution_count": 69,
   "id": "adf3f356",
   "metadata": {},
   "outputs": [],
   "source": [
    "query = gen_insert_query(\"route\", routes_dic)"
   ]
  },
  {
   "cell_type": "code",
   "execution_count": 70,
   "id": "5b54d7da",
   "metadata": {},
   "outputs": [
    {
     "data": {
      "text/plain": [
       "'INSERT INTO route (\\'agency_id\\', \\'route_id\\', \\'route_short_name\\', \\'route_long_name\\', \\'route_type\\', \\'route_color\\', \\'route_text_color\\') VALUES ({0: \\'SEM\\', 1: \\'SEM\\', 2: \\'SEM\\', 3: \\'SEM\\', 4: \\'SEM\\', 5: \\'SEM\\', 6: \\'SEM\\', 7: \\'SEM\\', 8: \\'SEM\\', 9: \\'SEM\\', 10: \\'SEM\\', 11: \\'SEM\\', 12: \\'SEM\\', 13: \\'SEM\\', 14: \\'SEM\\', 15: \\'SEM\\', 16: \\'SEM\\', 17: \\'SEM\\', 18: \\'SEM\\', 19: \\'SEM\\', 20: \\'SEM\\', 21: \\'SEM\\', 22: \\'SEM\\', 23: \\'SEM\\', 24: \\'SEM\\', 25: \\'SEM\\', 26: \\'SEM\\', 27: \\'SEM\\', 28: \\'SEM\\', 29: \\'SEM\\', 30: \\'SEM\\', 31: \\'SEM\\', 32: \\'SEM\\', 33: \\'SEM\\', 34: \\'SEM\\', 35: \\'SEM\\', 36: \\'SEM\\', 37: \\'SEM\\', 38: \\'SEM\\', 39: \\'SEM\\', 40: \\'SEM\\', 41: \\'SEM\\', 42: \\'SEM\\', 43: \\'SEM\\', 44: \\'SEM\\', 45: \\'SEM\\', 46: \\'SEM\\', 47: \\'SEM\\', 48: \\'SEM\\', 49: \\'SEM\\', 50: \\'SEM\\', 51: \\'SEM\\', 52: \\'SEM\\', 53: \\'SEM\\', 54: \\'SEM\\'}, {0: \\'1\\', 1: \\'2\\', 2: \\'3\\', 3: \\'4\\', 4: \\'5\\', 5: \\'6\\', 6: \\'7\\', 7: \\'12\\', 8: \\'13\\', 9: \\'14\\', 10: \\'15\\', 11: \\'16\\', 12: \\'19\\', 13: \\'20\\', 14: \\'21\\', 15: \\'22\\', 16: \\'23\\', 17: \\'25\\', 18: \\'26\\', 19: \\'40\\', 20: \\'41\\', 21: \\'42\\', 22: \\'44\\', 23: \\'45\\', 24: \\'46\\', 25: \\'47\\', 26: \\'48\\', 27: \\'49\\', 28: \\'50\\', 29: \\'51\\', 30: \\'54\\', 31: \\'55\\', 32: \\'56\\', 33: \\'59\\', 34: \\'60\\', 35: \\'61\\', 36: \\'62\\', 37: \\'63\\', 38: \\'64\\', 39: \\'65\\', 40: \\'66\\', 41: \\'67\\', 42: \\'68\\', 43: \\'70\\', 44: \\'71\\', 45: \\'73\\', 46: \\'81\\', 47: \\'82\\', 48: \\'83\\', 49: \\'85\\', 50: \\'A\\', 51: \\'B\\', 52: \\'C\\', 53: \\'D\\', 54: \\'E\\'}, {0: \\'C1\\', 1: \\'C2\\', 2: \\'C3\\', 3: \\'C4\\', 4: \\'C5\\', 5: \\'C6\\', 6: \\'C7\\', 7: \\'12\\', 8: \\'13\\', 9: \\'14\\', 10: \\'15\\', 11: \\'16\\', 12: \\'19\\', 13: \\'20\\', 14: \\'21\\', 15: \\'22\\', 16: \\'23\\', 17: \\'25\\', 18: \\'26\\', 19: \\'40\\', 20: \\'41\\', 21: \\'42\\', 22: \\'44\\', 23: \\'45\\', 24: \\'46\\', 25: \\'47\\', 26: \\'48\\', 27: \\'49\\', 28: \\'50\\', 29: \\'51\\', 30: \\'54\\', 31: \\'55\\', 32: \\'56\\', 33: \\'59\\', 34: \\'60\\', 35: \\'61\\', 36: \\'62\\', 37: \\'63\\', 38: \\'64\\', 39: \\'65\\', 40: \\'66\\', 41: \\'67\\', 42: \\'68\\', 43: \\'70\\', 44: \\'71\\', 45: \\'73\\', 46: \\'81\\', 47: \\'82\\', 48: \\'83\\', 49: \\'85\\', 50: \\'A\\', 51: \\'B\\', 52: \\'C\\', 53: \\'D\\', 54: \\'E\\'}, {0: \"GRENOBLE Cité Jean Macé / MEYLAN Maupertuis / MONTBONNOT-SAINT- MARTIN Pré de l\\'Eau\", 1: \\'GRENOBLE Louise Michel / CLAIX Pont Rouge\\', 2: \\'GRENOBLE Victor Hugo / ÉCHIROLLES Centre du Graphisme\\', 3: \\'GRENOBLE Victor Hugo / EYBENS Le Verderet\\', 4: \\'GRENOBLE Palais de Justice - Gare / GIÈRES Universités - Biologie\\', 5: \"GRENOBLE Oxford / SAINT-MARTIN-D\\'HÈRES Henri Wallon\", 6: \\'ÉCHIROLLES Comboire / GIÈRES Universités - Biologie / GIÈRES Universités - IUT - UFRAPS\\', 7: \"EYBENS Maisons Neuves / SAINT-MARTIN-D\\'HÈRES Les Alloves\", 8: \\'MEYLAN Lycée du Grésivaudan / Cimetière Intercommunal\\', 9: \\'GRENOBLE Verdun - Préfecture / GIÈRES Gare - Universités\\', 10: \\'GRENOBLE Verdun - Préfecture / DOMÈNE Chenevières / DOMÈNE Les Arnauds\\', 11: \\'MEYLAN Lycée du Grésivaudan / CORENC Montfleury / PONT-DE-CLAIX Gendarmerie\\', 12: \\'SASSENAGE L’Ovalie / SEYSSINS Garlettes\\', 13: \\'SEYSSINET-PARISET Hôtel de Ville / SASSENAGE Les Engenières / VEUREY-VOROIZE La Rive\\', 14: \\'SEYSSINS Le Prisme / CLAIX Pont Rouge\\', 15: \\'GRENOBLE Oxford / SAINT-ÉGRÈVE Gare\\', 16: \"VIZILLE Le Péage / SAINT-MARTIN-D\\'HÈRES Bibliothèques Universitaire\", 17: \\'GRENOBLE Colonel Dumont / LE GUA Les Saillants\\', 18: \\'GRENOBLE Gares / SAINT-GEORGES-DE-COMMIERS Gare / LE GUA Les Saillants\\', 19: \\'GRENOBLE Victor Hugo / GRENOBLE Le Rabot\\', 20: \\'CORENC La Garenne / LA TRONCHE Grand Sablon\\', 21: \\'MEYLAN La Détourbe / LA TRONCHE Grand Sablon\\', 22: \"LE GUA Les Saillants / LE GUA Prélenfrey Église / MIRIBEL-LANCHÂTRE Le Vernay / Col de l\\'Arzelier\", 23: \"VIF La Valonne / VARCES-ALLIÈRES-ET-RISSET Rond-Point de l\\'Europe\", 24: \\'SAINT-PAUL-DE-VARCES Place / VARCES-ALLIÈRES-ET-RISSET République\\', 25: \\'VARCES-ALLIÈRES-ET-RISSET Risset / CLAIX Pont Rouge / CLAIX Val d’Allières\\', 26: \\'CLAIX Cossey / CLAIX Pont Rouge\\', 27: \\'SEYSSINET-PARISET Cimetière / SEYSSINS Clinique du Dauphiné\\', 28: \\'FONTAINE La Poya / SASSENAGE Les Côtes\\', 29: \\'VEUREY-VOROIZE Châtelard / VEUREY-VOROIZE La Rive / SAINT-ÉGRÈVE Gare\\', 30: \\'GRENOBLE Oxford / SASSENAGE Les Engenières / SAINT-ÉGRÈVE Pont de Vence\\', 31: \\'SAINT-MARTIN-LE-VINOUX Col de Clémencières / SAINT-MARTIN-LE-VINOUX Hôtel de ville\\', 32: \\'SAINT-MARTIN-LE-VINOUX Col de Clémencières / GRENOBLE Casamaures - Village\\', 33: \"SAINT MARTIN D\\'URIAGE Haut Vues -> GIERES gare\", 34: \\'PROVEYSIEUX Planfay Haut / SAINT-ÉGRÈVE Muret\\', 35: \\'QUAIX-EN-CHARTREUSE La Cime de Mont-Quaix / SAINT-ÉGRÈVE Muret\\', 36: \\'SARCENAS Pont du Croz / SARCENAS Col de Porte / GRENOBLE Notre-Dame - Musée\\', 37: \\'MONT-SAINT-MARTIN Chemin de Namière / SAINT-ÉGRÈVE Gare\\', 38: \"PONT-DE-CLAIX L\\'Étoile / PONT-DE-CLAIX ZI des Îles\", 39: \"GRENOBLE Grand\\'place / VIZILLE Chantefeuille / VIZILLE Le Péage\", 40: \\'JARRIE Clos Jouvin / ÉCHIROLLES Gare\\', 41: \\'HERBEYS Le Bourg / GRENOBLE Grand’place\\', 42: \\'EYBENS La Grange du Château / ÉCHIROLLES La Rampe - Centre Ville\\', 43: \\'MONTCHABOUD Le Village / CHAMP-SUR-DRAC ZA La Plaine\\', 44: \\'CHAMPAGNIER Place du Laca / JARRIE Gare\\', 45: \\'Notre Dame de Commiers / Vif\\', 46: \\'Bus Relais A\\', 47: \\'Bus Relais B\\', 48: \\'Bus Relais C\\', 49: \\'Bus Relais E\\', 50: \"FONTAINE La Poya / PONT DE CLAIX  L\\'Etoile\", 51: \\'GRENOBLE OXFORD / GIÈRES Plaine des Sports\\', 52: \\'SAINT-MARTIN-D’HÈRES Condillac - Universités / SEYSSINS Le Prisme\\', 53: \"St M. D\\'Hères Etienne Grappe / St M. D\\'Hères Les Taillées - Universités\", 54: \\'FONTANIL-CORNILLON Palluel / GRENOBLE Louise Michel\\'}, {0: 3, 1: 3, 2: 3, 3: 3, 4: 3, 5: 3, 6: 3, 7: 3, 8: 3, 9: 3, 10: 3, 11: 3, 12: 3, 13: 3, 14: 3, 15: 3, 16: 3, 17: 3, 18: 3, 19: 3, 20: 3, 21: 3, 22: 3, 23: 3, 24: 3, 25: 3, 26: 3, 27: 3, 28: 3, 29: 3, 30: 3, 31: 3, 32: 3, 33: 3, 34: 3, 35: 3, 36: 3, 37: 3, 38: 3, 39: 3, 40: 3, 41: 3, 42: 3, 43: 3, 44: 3, 45: 3, 46: 3, 47: 3, 48: 3, 49: 3, 50: 0, 51: 0, 52: 0, 53: 0, 54: 0}, {0: \\'F5D24D\\', 1: \\'F5D24D\\', 2: \\'F5D24D\\', 3: \\'F5D24D\\', 4: \\'F5D24D\\', 5: \\'F5D24D\\', 6: \\'F5D24D\\', 7: \\'33A457\\', 8: \\'33A457\\', 9: \\'33A457\\', 10: \\'1E71B8\\', 11: \\'33A457\\', 12: \\'33A457\\', 13: \\'33A457\\', 14: \\'1E71B8\\', 15: \\'33A457\\', 16: \\'1E71B8\\', 17: \\'1E71B8\\', 18: \\'1E71B8\\', 19: \\'D572A8\\', 20: \\'D572A8\\', 21: \\'D572A8\\', 22: \\'D572A8\\', 23: \\'D572A8\\', 24: \\'D572A8\\', 25: \\'D572A8\\', 26: \\'D572A8\\', 27: \\'D572A8\\', 28: \\'D572A8\\', 29: \\'D572A8\\', 30: \\'D572A8\\', 31: \\'D572A8\\', 32: \\'D572A8\\', 33: \\'D572A8\\', 34: \\'D572A8\\', 35: \\'D572A8\\', 36: \\'D572A8\\', 37: \\'D572A8\\', 38: \\'D572A8\\', 39: \\'D572A8\\', 40: \\'D572A8\\', 41: \\'D572A8\\', 42: \\'D572A8\\', 43: \\'D572A8\\', 44: \\'D572A8\\', 45: \\'D572A8\\', 46: \\'3376B8\\', 47: \\'479A45\\', 48: \\'C20078\\', 49: \\'533786\\', 50: \\'3376B8\\', 51: \\'479A45\\', 52: \\'C20078\\', 53: \\'DE9917\\', 54: \\'533786\\'}, {0: \\'000000\\', 1: \\'000000\\', 2: \\'000000\\', 3: \\'000000\\', 4: \\'000000\\', 5: \\'000000\\', 6: \\'000000\\', 7: \\'FFFFFF\\', 8: \\'FFFFFF\\', 9: \\'FFFFFF\\', 10: \\'FFFFFF\\', 11: \\'FFFFFF\\', 12: \\'FFFFFF\\', 13: \\'FFFFFF\\', 14: \\'FFFFFF\\', 15: \\'FFFFFF\\', 16: \\'FFFFFF\\', 17: \\'FFFFFF\\', 18: \\'FFFFFF\\', 19: \\'FFFFFF\\', 20: \\'FFFFFF\\', 21: \\'FFFFFF\\', 22: \\'FFFFFF\\', 23: \\'FFFFFF\\', 24: \\'FFFFFF\\', 25: \\'FFFFFF\\', 26: \\'FFFFFF\\', 27: \\'FFFFFF\\', 28: \\'FFFFFF\\', 29: \\'FFFFFF\\', 30: \\'FFFFFF\\', 31: \\'FFFFFF\\', 32: \\'FFFFFF\\', 33: \\'FFFFFF\\', 34: \\'FFFFFF\\', 35: \\'FFFFFF\\', 36: \\'FFFFFF\\', 37: \\'FFFFFF\\', 38: \\'FFFFFF\\', 39: \\'FFFFFF\\', 40: \\'FFFFFF\\', 41: \\'FFFFFF\\', 42: \\'FFFFFF\\', 43: \\'FFFFFF\\', 44: \\'FFFFFF\\', 45: \\'FFFFFF\\', 46: \\'FFFFFF\\', 47: \\'FFFFFF\\', 48: \\'FFFFFF\\', 49: \\'FFFFFF\\', 50: \\'FFFFFF\\', 51: \\'FFFFFF\\', 52: \\'FFFFFF\\', 53: \\'FFFFFF\\', 54: \\'FFFFFF\\'}) '"
      ]
     },
     "execution_count": 70,
     "metadata": {},
     "output_type": "execute_result"
    }
   ],
   "source": [
    "query"
   ]
  },
  {
   "cell_type": "markdown",
   "id": "c61171cd",
   "metadata": {},
   "source": [
    "# II - Implémenter une fonction qui génère des commandes d’insertion SQL"
   ]
  },
  {
   "cell_type": "markdown",
   "id": "eb0cd29f",
   "metadata": {},
   "source": [
    "### Function to create the SQL query to insert"
   ]
  },
  {
   "cell_type": "code",
   "execution_count": null,
   "id": "cff5c4ee",
   "metadata": {},
   "outputs": [],
   "source": []
  },
  {
   "cell_type": "code",
   "execution_count": null,
   "id": "78ba8363",
   "metadata": {},
   "outputs": [],
   "source": []
  },
  {
   "cell_type": "code",
   "execution_count": 40,
   "id": "33c4c301",
   "metadata": {},
   "outputs": [
    {
     "data": {
      "text/plain": [
       "\"INSERT INTO agency ('agency_id', 'agency_name', 'agency_url', 'agency_timezone', 'agency_lang', 'agency_phone') VALUES ({0: 'SEM'}, {0: 'Mobilités M - Tag'}, {0: 'https://www.mobilites-m.fr/'}, {0: 'Europe/Paris'}, {0: 'FR'}, {0: 438703870}) \""
      ]
     },
     "execution_count": 40,
     "metadata": {},
     "output_type": "execute_result"
    }
   ],
   "source": []
  },
  {
   "cell_type": "markdown",
   "id": "1424d9c5",
   "metadata": {},
   "source": [
    "### Function generating a list of query based on a dataframe"
   ]
  },
  {
   "cell_type": "code",
   "execution_count": 43,
   "id": "a14b2cab",
   "metadata": {},
   "outputs": [],
   "source": [
    "def get_insert_queries(tablename:str, df: pd.DataFrame) -> list:\n",
    "    return "
   ]
  },
  {
   "cell_type": "markdown",
   "id": "98b64cb2",
   "metadata": {},
   "source": [
    "# III - Implémenter une procédure qui crée un fichier SQL"
   ]
  },
  {
   "cell_type": "code",
   "execution_count": 34,
   "id": "07597181",
   "metadata": {},
   "outputs": [],
   "source": [
    "#Fonction pour mettre en forme .txt puis création fichier sql\n",
    "def gen_insert_file(filename,tablename,df):\n",
    "    with open(filename,'w') as file:\n",
    "        file.write(\"BEGIN;\") #BEGIN et COMMIT sont à ajouter pour optimiser le process/plus rapide\n",
    "        for i in range(len(df)):\n",
    "            line=df.iloc[i].dropna()\n",
    "            query= \"INSERT INTO {} {} VALUES {};\\n \".format(tablename, tuple(line.index), tuple(line.to_list()))\n",
    "            file.write(query)\n",
    "        file.write(\"COMMIT;\")\n",
    "    return\n",
    "#Pour import dans DB --> terminal : sqlite3 gtfs_tag.db < routes.sql"
   ]
  },
  {
   "cell_type": "code",
   "execution_count": null,
   "id": "a0d6ed79",
   "metadata": {},
   "outputs": [],
   "source": []
  }
 ],
 "metadata": {
  "kernelspec": {
   "display_name": "Python 3 (ipykernel)",
   "language": "python",
   "name": "python3"
  },
  "language_info": {
   "codemirror_mode": {
    "name": "ipython",
    "version": 3
   },
   "file_extension": ".py",
   "mimetype": "text/x-python",
   "name": "python",
   "nbconvert_exporter": "python",
   "pygments_lexer": "ipython3",
   "version": "3.9.7"
  }
 },
 "nbformat": 4,
 "nbformat_minor": 5
}
