{
 "cells": [
  {
   "cell_type": "code",
   "execution_count": 47,
   "metadata": {},
   "outputs": [],
   "source": [
    "import pandas as pd\n",
    "import numpy as np\n",
    "import sqlite3 as db"
   ]
  },
  {
   "cell_type": "code",
   "execution_count": 2,
   "metadata": {},
   "outputs": [
    {
     "data": {
      "text/plain": [
       "'/home/campus-13/Documents/Projet_BDD'"
      ]
     },
     "execution_count": 2,
     "metadata": {},
     "output_type": "execute_result"
    }
   ],
   "source": [
    "%pwd"
   ]
  },
  {
   "cell_type": "code",
   "execution_count": 54,
   "metadata": {},
   "outputs": [],
   "source": [
    "#Import des fichiers --> df\n",
    "routes_df=pd.read_csv('./SEM-GTFS/routes.txt')\n",
    "# stops_df=pd.read_csv('./SEM-GTFS/stops.txt')\n",
    "# stop_times_df=pd.read_csv('./SEM-GTFS/stop_times.txt')\n",
    "# agency_df=pd.read_csv('./SEM-GTFS/agency.txt')\n",
    "# trips_df=pd.read_csv('./SEM-GTFS/trips.txt')"
   ]
  },
  {
   "cell_type": "code",
   "execution_count": 37,
   "metadata": {},
   "outputs": [
    {
     "data": {
      "text/plain": [
       "(50, 7)"
      ]
     },
     "execution_count": 37,
     "metadata": {},
     "output_type": "execute_result"
    }
   ],
   "source": [
    "routes_df.shape"
   ]
  },
  {
   "cell_type": "code",
   "execution_count": 38,
   "metadata": {},
   "outputs": [],
   "source": [
    "#Transformation des fichiers en dictionnaires\n",
    "routes_dic=routes_df.to_dict(orient='dict')\n",
    "stops_dic=stops_df.to_dict(orient='dict')\n",
    "stop_times_dic=stop_times_df.to_dict(orient='dict')\n",
    "agency_dic=agency_df.to_dict(orient='dict')\n",
    "trips_dic=trips_df.to_dict(orient='dict')"
   ]
  },
  {
   "cell_type": "code",
   "execution_count": 39,
   "metadata": {},
   "outputs": [],
   "source": [
    "# Fonction transformation données mais pas création de fichier sql\n",
    "def gen_insert_query(table_name:str, a_dict:dict) -> str:\n",
    "    #table_name= stops_insert.sql par exple\n",
    "    #df --> attention à gérer les NaN\n",
    "    # https://sql.sh/cours/insert-into\n",
    "    # INSERT INTO table-name (column-names)  VALUES (values) \n",
    "\n",
    "    insert_query_tpl = \"INSERT INTO {} {} VALUES {} \"\n",
    "    keys, values = zip(*a_dict.items())\n",
    "    \n",
    "    compiled_query = insert_query_tpl.format(table_name, keys, values)\n",
    "    \n",
    "    return compiled_query"
   ]
  },
  {
   "cell_type": "code",
   "execution_count": 40,
   "metadata": {},
   "outputs": [],
   "source": [
    "# gen_insert_query(routes_df,routes_dic)"
   ]
  },
  {
   "cell_type": "code",
   "execution_count": 41,
   "metadata": {},
   "outputs": [],
   "source": [
    "#Fonction pour mettre en forme .txt puis création fichier sql\n",
    "def gen_insert_file(filename,tablename,df):\n",
    "    with open(filename,'w') as file:\n",
    "        file.write(\"BEGIN;\") #BEGIN et COMMIT sont à ajouter pour optimiser le process/plus rapide\n",
    "        for i in range(len(df)):\n",
    "            line=df.iloc[i].dropna()\n",
    "            query= \"INSERT INTO {} {} VALUES {};\\n \".format(tablename, tuple(line.index), tuple(line.to_list()))\n",
    "            file.write(query)\n",
    "        file.write(\"COMMIT;\")\n",
    "    return\n",
    "#Pour import dans DB --> terminal : sqlite3 gtfs_tag.db < routes.sql"
   ]
  },
  {
   "cell_type": "code",
   "execution_count": 42,
   "metadata": {},
   "outputs": [],
   "source": [
    "gen_insert_file(\"./routes.sql\",\"routes\", routes_df)"
   ]
  },
  {
   "cell_type": "code",
   "execution_count": 44,
   "metadata": {},
   "outputs": [],
   "source": [
    "# import pandas\n",
    "# import sqlite3 as db\n",
    "\n",
    "# DB = db.connect('DB.db')\n",
    "# csv1 = pandas.read_csv('C:\\\\…..csv')\n",
    "# csv1.to_sql(name='Orders', con=DB, if_exists='replace')\n",
    "# #replace is one of three options available for the if_exists parameter\n",
    "# DB.close()"
   ]
  },
  {
   "cell_type": "code",
   "execution_count": 57,
   "metadata": {},
   "outputs": [],
   "source": [
    "#Création du connecteur\n",
    "DB=db.connect('gtfs_tag.db')\n",
    "connecteur=sqlite3.connect('gtfs_tag.db')\n",
    "\n",
    "\n",
    "routes_df.to_sql(name='routes',con=connecteur, if_exists='replace') #if_exists='append' quand on veut rajouter\n",
    "\n",
    "#Transformations et chargements des fichiers concernés\n",
    "stops_df=pd.read_csv('./SEM-GTFS/stops.txt') #ajouter na_values?\n",
    "stops_df.to_sql(name='stops',con=connecteur, if_exists='replace')\n",
    "\n",
    "stop_times_df=pd.read_csv('./SEM-GTFS/stop_times.txt')\n",
    "stop_times_df.to_sql(name='stops_times',con=connecteur, if_exists='replace')\n",
    "\n",
    "agency_df=pd.read_csv('./SEM-GTFS/agency.txt')\n",
    "agency_df.to_sql(name='agency',con=connecteur, if_exists='replace')\n",
    "\n",
    "trips_df=pd.read_csv('./SEM-GTFS/trips.txt')\n",
    "trips_df.to_sql(name='trips',con=connecteur, if_exists='replace')\n",
    "\n",
    "#Fermeture de la connection\n",
    "DB.close()\n",
    "                \n",
    "                \n"
   ]
  },
  {
   "cell_type": "markdown",
   "metadata": {},
   "source": [
    "## Plan A:\n",
    "\n",
    "- Formaliser le schema.sql à importer dans USer interface for sql\n",
    "\n",
    "- Utiliser pandas pour créer la DB:\n",
    "\n",
    "    a - DB = db.connect(\"name.db\")\n",
    "\n",
    "    b - connecteur=sqlite3.connect(\"name.db\")\n",
    "    \n",
    "    c - importer ton fichier txt et le transformer en dataframe --> pd.read_csv(\"fichier.txt\")\n",
    "    \n",
    "    d - transformer ton df en fichier sql -->        \n",
    "        namedf.to_sql(name='nomdelatable',con=connecteur,if_exists='replace ou append')\n",
    "        # append will allow to keys to be preserved like defined in the schema\n",
    "        #index=False if you do not want extra-index to be added automatically\n",
    "    \n",
    "    e - DB.close()\n",
    "    \n",
    "    \n",
    "## Plan B:\n",
    "\n",
    "- Formaliser le schema.sql à importer dans USer interface for sql\n",
    "\n",
    "- Recréer la fonction permettant d'implémenter le sql\n",
    "\n",
    "- Ecriture dans DB : dans terminal --> sqlite3 fichier.db < fichier.sql \n",
    "\n"
   ]
  },
  {
   "cell_type": "code",
   "execution_count": null,
   "metadata": {},
   "outputs": [],
   "source": []
  }
 ],
 "metadata": {
  "kernelspec": {
   "display_name": "Python 3 (ipykernel)",
   "language": "python",
   "name": "python3"
  },
  "language_info": {
   "codemirror_mode": {
    "name": "ipython",
    "version": 3
   },
   "file_extension": ".py",
   "mimetype": "text/x-python",
   "name": "python",
   "nbconvert_exporter": "python",
   "pygments_lexer": "ipython3",
   "version": "3.9.7"
  },
  "toc": {
   "base_numbering": 1,
   "nav_menu": {},
   "number_sections": true,
   "sideBar": true,
   "skip_h1_title": false,
   "title_cell": "Table of Contents",
   "title_sidebar": "Contents",
   "toc_cell": false,
   "toc_position": {},
   "toc_section_display": true,
   "toc_window_display": false
  }
 },
 "nbformat": 4,
 "nbformat_minor": 2
}
