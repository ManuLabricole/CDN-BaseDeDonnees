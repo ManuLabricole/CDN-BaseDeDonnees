{
 "cells": [
  {
   "cell_type": "code",
   "execution_count": 1,
   "id": "c7f9ff79",
   "metadata": {},
   "outputs": [],
   "source": [
    "import pandas as pd\n",
    "import numpy as np\n",
    "import sqlite3 as db\n",
    "import os"
   ]
  },
  {
   "cell_type": "code",
   "execution_count": 2,
   "id": "71a516fb",
   "metadata": {},
   "outputs": [],
   "source": [
    "%pwd\n",
    "\n",
    "path = os.getcwd()"
   ]
  },
  {
   "cell_type": "markdown",
   "id": "f4820bf6",
   "metadata": {},
   "source": [
    "# Utils"
   ]
  },
  {
   "cell_type": "markdown",
   "id": "54c9fa3f",
   "metadata": {},
   "source": [
    "### Import des data"
   ]
  },
  {
   "cell_type": "code",
   "execution_count": 3,
   "id": "b9b231b2",
   "metadata": {},
   "outputs": [],
   "source": [
    "def import_txt():\n",
    "    routes_df=pd.read_csv('./SEM-GTFS/routes.txt')\n",
    "    stops_df=pd.read_csv('./SEM-GTFS/stops.txt')\n",
    "    stop_times_df=pd.read_csv('./SEM-GTFS/stop_times.txt')\n",
    "    agency_df=pd.read_csv('./SEM-GTFS/agency.txt')\n",
    "    trips_df=pd.read_csv('./SEM-GTFS/trips.txt')\n",
    "    return routes_df, stops_df, stop_times_df, agency_df, trips_df"
   ]
  },
  {
   "cell_type": "code",
   "execution_count": 4,
   "id": "800dd6ea",
   "metadata": {},
   "outputs": [],
   "source": [
    "routes_df, stops_df, stop_times_df, agency_df, trips_df = import_txt()"
   ]
  },
  {
   "cell_type": "markdown",
   "id": "d2a3943a",
   "metadata": {},
   "source": [
    "### Get infos"
   ]
  },
  {
   "cell_type": "code",
   "execution_count": 5,
   "id": "68cbb211",
   "metadata": {},
   "outputs": [],
   "source": [
    "def get_infos(db_file):\n",
    "    conn = db.connect(db_file)\n",
    "    cur = conn.cursor()\n",
    "    \n",
    "    # Retrieve the names of all tables in the database\n",
    "    cur.execute(\"SELECT name FROM sqlite_master WHERE type='table'\")\n",
    "    tables = [table[0] for table in cur.fetchall()]\n",
    "    \n",
    "    # Retrieve the columns in each table\n",
    "    columns = {}\n",
    "    for table in tables:\n",
    "        cur.execute(\"PRAGMA table_info({})\".format(table))\n",
    "        columns[table] = [column[1] for column in cur.fetchall()]\n",
    "    \n",
    "    cur.close()\n",
    "    conn.close()\n",
    "    print(\"°°°°°°°°°°°°°°°°°°°°°°°°°°°°°°°°°°°°°°°°°°°°°°°°°°°°°°°°°°°°°°°°°°°°°°°°°°°°°°°°°°°°°°°°°°°°°°°°°°°°°°°°°°°°°°°°°°°°°°°°\")\n",
    "    print(\"------------------------------ TABLES --------------------------------\")\n",
    "    print(\"\")\n",
    "    print(\"Tables:\", tables)\n",
    "    print(\"\")\n",
    "    print(\"------------------------------ COLUMNS -------------------------------\")\n",
    "    for table in tables:\n",
    "        print(\"\")\n",
    "        print(f\"----> {table} <----\")\n",
    "        print(\"Columns --> \", columns[table])\n",
    "    print(\"°°°°°°°°°°°°°°°°°°°°°°°°°°°°°°°°°°°°°°°°°°°°°°°°°°°°°°°°°°°°°°°°°°°°°°°°°°°°°°°°°°°°°°°°°°°°°°°°°°°°°°°°°°°°°°°°°°°°°°°°\")"
   ]
  },
  {
   "cell_type": "markdown",
   "id": "cc8b8bda",
   "metadata": {},
   "source": [
    "### Query the DB"
   ]
  },
  {
   "cell_type": "code",
   "execution_count": 6,
   "id": "d19a78f4",
   "metadata": {},
   "outputs": [],
   "source": [
    "# The name has to be in the same folder as the notebook\n",
    "def query_db(name, query):\n",
    "    \n",
    "    conn = db.connect(name)\n",
    "    cur = conn.cursor()\n",
    "    cur.execute(query)\n",
    "    column_names = [description[0] for description in cur.description]\n",
    "    results = cur.fetchall()\n",
    "    cur.close()\n",
    "    conn.close()\n",
    "    \n",
    "    #df_results = pd.DataFrame(results, columns=column_names)\n",
    "\n",
    "    return df_results"
   ]
  },
  {
   "cell_type": "markdown",
   "id": "e0c5c16f",
   "metadata": {},
   "source": [
    "### Generate the empty table"
   ]
  },
  {
   "cell_type": "code",
   "execution_count": 7,
   "id": "78017495",
   "metadata": {},
   "outputs": [],
   "source": [
    "def create_database(database_file):\n",
    "    # Remove the database file if it already exists\n",
    "    if os.path.exists(database_file):\n",
    "        os.remove(database_file)\n",
    "\n",
    "    # Connect to the database and create the tables\n",
    "    conn = db.connect(database_file)\n",
    "    c = conn.cursor()\n",
    "    c.execute('''CREATE TABLE agency (\n",
    "                    agency_id TEXT PRIMARY KEY,\n",
    "                    agency_name TEXT,\n",
    "                    agency_url TEXT,\n",
    "                    agency_timezone TEXT,\n",
    "                    agency_lang TEXT,\n",
    "                    agency_phone TEXT,\n",
    "                    agency_fare_url TEXT,\n",
    "                    agency_email TEXT)''')\n",
    "    c.execute('''CREATE TABLE routes (\n",
    "                    route_id TEXT PRIMARY KEY,\n",
    "                    agency_id TEXT,\n",
    "                    route_short_name TEXT,\n",
    "                    route_long_name TEXT,\n",
    "                    route_description TEXT,\n",
    "                    route_type TEXT,\n",
    "                    route_url TEXT,\n",
    "                    route_color TEXT,\n",
    "                    route_text_color TEXT,\n",
    "                    route_sort_order TEXT,\n",
    "                    FOREIGN KEY (agency_id) REFERENCES agency(agency_id))''')\n",
    "    c.execute('''CREATE TABLE trips (\n",
    "                    route_id TEXT,\n",
    "                    service_id TEXT,\n",
    "                    trip_id TEXT PRIMARY KEY,\n",
    "                    trip_headsign TEXT,\n",
    "                    trip_short_name TEXT,\n",
    "                    direction_id INT,\n",
    "                    block_id TEXT,\n",
    "                    shape_id TEXT,\n",
    "                    wheelchair_accessible INT,\n",
    "                    bikes_allowed INT,\n",
    "                    FOREIGN KEY (route_id) REFERENCES routes(route_id))''')\n",
    "    c.execute('''CREATE TABLE stop_times (\n",
    "                    trip_id TEXT,\n",
    "                    arrival_time TEXT,\n",
    "                    departure_time TEXT,\n",
    "                    stop_id TEXT,\n",
    "                    stop_sequence INT,\n",
    "                    stop_headsign TEXT,\n",
    "                    pickup_type INT,\n",
    "                    drop_off_type INT,\n",
    "                    continuous_pickup INT,\n",
    "                    continuous_drop_off INT,\n",
    "                    shape_dist_traveled FLOAT,\n",
    "                    timepoint INT,\n",
    "                    PRIMARY KEY (trip_id, arrival_time, departure_time, stop_id),\n",
    "                    FOREIGN KEY (trip_id) REFERENCES trips(trip_id),\n",
    "                    FOREIGN KEY (stop_id) REFERENCES stops(stop_id))''')\n",
    "    c.execute('''CREATE TABLE stops (\n",
    "                    stop_id TEXT PRIMARY KEY,\n",
    "                    stop_code TEXT,\n",
    "                    stop_name TEXT,\n",
    "                    stop_desc TEXT,\n",
    "                    stop_lat TEXT,\n",
    "                    stop_lon TEXT,\n",
    "                    zone_id TEXT,\n",
    "                    stop_url TEXT,\n",
    "                    location_type INT,\n",
    "                    parent_station TEXT,\n",
    "                    stop_timezone TEXT,\n",
    "                    wheelchair_boarding INT,\n",
    "                    level_id TEXT,\n",
    "                    platform_code TEXT)''')\n",
    "\n",
    "    # Save the changes and close the connection\n",
    "    conn.commit()\n",
    "    conn.close()\n"
   ]
  },
  {
   "cell_type": "code",
   "execution_count": 8,
   "id": "155ebd1f",
   "metadata": {},
   "outputs": [],
   "source": [
    "create_database(\"test.db\")"
   ]
  },
  {
   "cell_type": "markdown",
   "id": "49c8790b",
   "metadata": {},
   "source": [
    "# I - Implémenter une fonction qui génère une commande insertion SQL"
   ]
  },
  {
   "cell_type": "raw",
   "id": "1270d377",
   "metadata": {},
   "source": [
    "Sa signature est la suivante :\n",
    "def gen_insert_query(table_name:str, a_dict:dict) -> str\n",
    "Les paramètres de cette fonction sont :\n",
    "--> tablename : le nom de la table (e.g. gtfs_stops )\n",
    "--> a_dict : dictionnaire Python\n",
    "Elle retourne une chaîne de caractère qui représente l’insertion SQL."
   ]
  },
  {
   "cell_type": "code",
   "execution_count": 9,
   "id": "94314625",
   "metadata": {},
   "outputs": [],
   "source": [
    "db_name = \"gtfs_tag.db\""
   ]
  },
  {
   "cell_type": "code",
   "execution_count": 10,
   "id": "82598b52",
   "metadata": {},
   "outputs": [
    {
     "name": "stdout",
     "output_type": "stream",
     "text": [
      "°°°°°°°°°°°°°°°°°°°°°°°°°°°°°°°°°°°°°°°°°°°°°°°°°°°°°°°°°°°°°°°°°°°°°°°°°°°°°°°°°°°°°°°°°°°°°°°°°°°°°°°°°°°°°°°°°°°°°°°°\n",
      "------------------------------ TABLES --------------------------------\n",
      "\n",
      "Tables: ['agency', 'routes', 'trips', 'stop_times', 'stops']\n",
      "\n",
      "------------------------------ COLUMNS -------------------------------\n",
      "\n",
      "----> agency <----\n",
      "Columns -->  ['agency_id', 'agency_name', 'agency_url', 'agency_timezone', 'agency_lang', 'agency_phone', 'agency_fare_url', 'agency_email']\n",
      "\n",
      "----> routes <----\n",
      "Columns -->  ['route_id', 'agency_id', 'route_short_name', 'route_long_name', 'route_description', 'route_type', 'route_url', 'route_color', 'route_text_color', 'route_sort_order']\n",
      "\n",
      "----> trips <----\n",
      "Columns -->  ['route_id', 'service_id', 'trip_id', 'trip_headsign', 'trip_short_name', 'direction_id', 'block_id', 'shape_id', 'wheelchair_accessible', 'bikes_allowed']\n",
      "\n",
      "----> stop_times <----\n",
      "Columns -->  ['trip_id', 'arrival_time', 'departure_time', 'stop_id', 'stop_sequence', 'stop_headsign', 'pickup_type', 'drop_off_type', 'continuous_pickup', 'continuous_drop_off', 'shape_dist_traveled', 'timepoint']\n",
      "\n",
      "----> stops <----\n",
      "Columns -->  ['stop_id', 'stop_code', 'stop_name', 'stop_desc', 'stop_lat', 'stop_lon', 'zone_id', 'stop_url', 'location_type', 'parent_station', 'stop_timezone', 'wheelchair_boarding', 'level_id', 'platform_code']\n",
      "°°°°°°°°°°°°°°°°°°°°°°°°°°°°°°°°°°°°°°°°°°°°°°°°°°°°°°°°°°°°°°°°°°°°°°°°°°°°°°°°°°°°°°°°°°°°°°°°°°°°°°°°°°°°°°°°°°°°°°°°\n"
     ]
    }
   ],
   "source": [
    "get_infos(db_name)"
   ]
  },
  {
   "cell_type": "markdown",
   "id": "6260bc55",
   "metadata": {},
   "source": [
    "### Generate dict of data to insert"
   ]
  },
  {
   "cell_type": "code",
   "execution_count": 11,
   "id": "29b42ae5",
   "metadata": {},
   "outputs": [
    {
     "data": {
      "text/plain": [
       "{'agency_id': {0: 'SEM'},\n",
       " 'agency_name': {0: 'Mobilités M - Tag'},\n",
       " 'agency_url': {0: 'https://www.mobilites-m.fr/'},\n",
       " 'agency_timezone': {0: 'Europe/Paris'},\n",
       " 'agency_lang': {0: 'FR'},\n",
       " 'agency_phone': {0: 438703870}}"
      ]
     },
     "execution_count": 11,
     "metadata": {},
     "output_type": "execute_result"
    }
   ],
   "source": [
    "#Transformation des fichiers en dictionnaires\n",
    "routes_dic=routes_df.to_dict(orient='dict')\n",
    "stops_dic=stops_df.to_dict(orient='dict')\n",
    "stop_times_dic=stop_times_df.to_dict(orient='dict')\n",
    "agency_dic=agency_df.to_dict(orient='dict')\n",
    "trips_dic=trips_df.to_dict(orient='dict')\n",
    "agency_dic"
   ]
  },
  {
   "cell_type": "markdown",
   "id": "971807c2",
   "metadata": {},
   "source": [
    "### Créer une query générale INSERT table_name  ...COLUMNS... puis toutes les VALUE"
   ]
  },
  {
   "cell_type": "code",
   "execution_count": 12,
   "id": "60dddaba",
   "metadata": {},
   "outputs": [],
   "source": [
    "table_name = \"agency\"\n",
    "dict_name = agency_dic"
   ]
  },
  {
   "cell_type": "code",
   "execution_count": 13,
   "id": "071f0c3f",
   "metadata": {},
   "outputs": [],
   "source": [
    "def generate_insertion_query(table_name: str, a_dict: dict) -> str:\n",
    "    columns = \", \".join(a_dict.keys())\n",
    "    values = \", \".join(\"'\" + str(x).replace(\"'\", \"''\") + \"'\" for x in a_dict.values())\n",
    "    query = f\"INSERT INTO {table_name} ({columns}) VALUES ({values})\"\n",
    "    return query"
   ]
  },
  {
   "cell_type": "code",
   "execution_count": 14,
   "id": "adf3f356",
   "metadata": {
    "scrolled": true
   },
   "outputs": [],
   "source": [
    "query = generate_insertion_query(table_name, dict_name)"
   ]
  },
  {
   "cell_type": "code",
   "execution_count": 15,
   "id": "1f41caee",
   "metadata": {},
   "outputs": [],
   "source": [
    "def save_sql_query_to_file(query, file_path):\n",
    "    with open(file_path, 'w') as file:\n",
    "        file.write(query)\n",
    "    print(f'Saved SQL query to {file_path}')"
   ]
  },
  {
   "cell_type": "code",
   "execution_count": 16,
   "id": "e1244567",
   "metadata": {},
   "outputs": [
    {
     "name": "stdout",
     "output_type": "stream",
     "text": [
      "Saved SQL query to /Users/manulabricole/Documents/CDN/BDD/agency_query_alone.txt\n"
     ]
    }
   ],
   "source": [
    "file = f\"{path}/{table_name}_query_alone.txt\"\n",
    "save_sql_query_to_file(query, file)"
   ]
  },
  {
   "cell_type": "markdown",
   "id": "11c30fcc",
   "metadata": {},
   "source": [
    "### Maintenant que Agency est ajouté, en principe plus d'erreur de foreign key. Test ajout routes"
   ]
  },
  {
   "cell_type": "code",
   "execution_count": 17,
   "id": "a857a05c",
   "metadata": {},
   "outputs": [],
   "source": [
    "table_name = \"routes\"\n",
    "dict_name = routes_dic"
   ]
  },
  {
   "cell_type": "code",
   "execution_count": 18,
   "id": "609a8510",
   "metadata": {},
   "outputs": [
    {
     "name": "stdout",
     "output_type": "stream",
     "text": [
      "Saved SQL query to /Users/manulabricole/Documents/CDN/BDD/routes_query_alone.txt\n"
     ]
    }
   ],
   "source": [
    "query = generate_insertion_query(table_name, dict_name)\n",
    "file = f\"{path}/{table_name}_query_alone.txt\"\n",
    "save_sql_query_to_file(query, file)"
   ]
  },
  {
   "cell_type": "raw",
   "id": "04d385cc",
   "metadata": {},
   "source": [
    "----> ERROR message de FOREIGN KEY constraint FAILED"
   ]
  },
  {
   "cell_type": "markdown",
   "id": "c61171cd",
   "metadata": {},
   "source": [
    "# II - Implémenter une fonction qui génère des commandes d’insertion SQL"
   ]
  },
  {
   "cell_type": "raw",
   "id": "6c152172",
   "metadata": {},
   "source": [
    "--> Objectif :\n",
    "\n",
    "INSERT INTO routes ('agency_id', 'route_id', 'route_short_name', 'route_long_name', 'route_type', 'route_color', 'route_text_color') VALUES ('SEM', '12', '12', \"EYBENS Maisons Neuves / SAINT-MARTIN-D'HÈRES Les Alloves\", 3, '33A457', 'FFFFFF');\n",
    "\n",
    "Donc tuple des entetes de columns, et tuple de values de chaque column dans un ligne"
   ]
  },
  {
   "cell_type": "code",
   "execution_count": 19,
   "id": "3b389632",
   "metadata": {},
   "outputs": [
    {
     "data": {
      "text/plain": [
       "agency_id                                                         SEM\n",
       "route_id                                                            5\n",
       "route_short_name                                                   C5\n",
       "route_long_name     GRENOBLE Palais de Justice - Gare / GIÈRES Uni...\n",
       "route_type                                                          3\n",
       "route_color                                                    F5D24D\n",
       "route_text_color                                               000000\n",
       "Name: 4, dtype: object"
      ]
     },
     "execution_count": 19,
     "metadata": {},
     "output_type": "execute_result"
    }
   ],
   "source": [
    "line=routes_df.iloc[4].dropna()\n",
    "line"
   ]
  },
  {
   "cell_type": "code",
   "execution_count": 20,
   "id": "72517452",
   "metadata": {},
   "outputs": [],
   "source": [
    "def dataframe_to_query(table_name, df):\n",
    "    for i in range(len(df)):\n",
    "        line=df.iloc[i].dropna()\n",
    "        query= \"INSERT INTO {} {} VALUES {};\\n \".format(table_name, tuple(line.index), tuple(line.to_list()))\n",
    "    return query"
   ]
  },
  {
   "cell_type": "code",
   "execution_count": 21,
   "id": "62bd7b15",
   "metadata": {},
   "outputs": [],
   "source": [
    "query_df = dataframe_to_query(\"routes\", routes_df)"
   ]
  },
  {
   "cell_type": "markdown",
   "id": "eb0cd29f",
   "metadata": {},
   "source": [
    "### III - implémenter une procédure qui crée un fichier SQL"
   ]
  },
  {
   "cell_type": "code",
   "execution_count": 22,
   "id": "cff5c4ee",
   "metadata": {
    "scrolled": true
   },
   "outputs": [],
   "source": [
    "def gen_insert_file(filename,table_name,df):\n",
    "    with open(filename,'w') as file:\n",
    "        file.write(\"BEGIN;\")\n",
    "        for i in range(len(df)):\n",
    "            line=df.iloc[i].dropna()\n",
    "            query= \"INSERT INTO {} {} VALUES {};\\n \".format(table_name, tuple(line.index), tuple(line.to_list()))\n",
    "            file.write(query)\n",
    "        file.write(\"COMMIT;\")\n",
    "    return filename"
   ]
  },
  {
   "cell_type": "code",
   "execution_count": 23,
   "id": "9c6e69f4",
   "metadata": {},
   "outputs": [
    {
     "data": {
      "text/plain": [
       "'./trips.sql'"
      ]
     },
     "execution_count": 23,
     "metadata": {},
     "output_type": "execute_result"
    }
   ],
   "source": [
    "gen_insert_file(\"./routes.sql\",\"routes\", routes_df)\n",
    "gen_insert_file(\"./stops.sql\",\"stops\", stops_df)\n",
    "gen_insert_file(\"./stop_times.sql\",\"stop_times\", stop_times_df)\n",
    "gen_insert_file(\"./agency.sql\",\"agency\", agency_df)\n",
    "gen_insert_file(\"./trips.sql\",\"trips\", trips_df)"
   ]
  },
  {
   "cell_type": "raw",
   "id": "94710d6b",
   "metadata": {},
   "source": [
    "--> Dans le terminal run :\n",
    "sqlite3 gtfs_tag.db < stop_times.sql"
   ]
  },
  {
   "cell_type": "markdown",
   "id": "c7a56240",
   "metadata": {},
   "source": [
    "# Methode Pandas"
   ]
  },
  {
   "cell_type": "code",
   "execution_count": 24,
   "id": "bb2cfc2e",
   "metadata": {},
   "outputs": [],
   "source": [
    "pandas_db = \"pandas_methode.db\""
   ]
  },
  {
   "cell_type": "raw",
   "id": "b93a9227",
   "metadata": {},
   "source": [
    "The first line creates a connection object to a database, given by the string \"pandas_db\", using the db module's connect() method.\n",
    "\n",
    "The second line also creates a connection object to the same database, but using the sqlite3 module's connect() method.\n",
    "\n",
    "The next block of code writes the contents of four pandas dataframes to the SQLite database. The to_sql() method is used to write each dataframe to a separate table in the database. The if_exists parameter is set to 'replace', which means that if a table with the same name already exists, it will be replaced with the new data.\n",
    "\n",
    "Finally, the database connection is closed using the close() method.\n",
    "\n",
    "Overall, this code is useful for writing pandas dataframes to an SQLite database using the to_sql() method. However, the purpose of the code is not clear without more context."
   ]
  },
  {
   "cell_type": "code",
   "execution_count": 25,
   "id": "a99e8528",
   "metadata": {},
   "outputs": [],
   "source": [
    "create_database(pandas_db)\n",
    "routes_df, stops_df, stop_times_df, agency_df, trips_df = import_txt()\n",
    "\n",
    "DB=db.connect(pandas_db)\n",
    "connecteur=db.connect(pandas_db)\n",
    "\n",
    "routes_df.to_sql(name='routes',con=connecteur, if_exists='replace') \n",
    "stops_df.to_sql(name='stops',con=connecteur, if_exists='replace')\n",
    "stop_times_df.to_sql(name='stops_times',con=connecteur, if_exists='replace')\n",
    "agency_df.to_sql(name='agency',con=connecteur, if_exists='replace')\n",
    "trips_df.to_sql(name='trips',con=connecteur, if_exists='replace')\n",
    "\n",
    "DB.close()"
   ]
  },
  {
   "cell_type": "code",
   "execution_count": null,
   "id": "dd671184",
   "metadata": {},
   "outputs": [],
   "source": []
  }
 ],
 "metadata": {
  "kernelspec": {
   "display_name": "Python 3 (ipykernel)",
   "language": "python",
   "name": "python3"
  },
  "language_info": {
   "codemirror_mode": {
    "name": "ipython",
    "version": 3
   },
   "file_extension": ".py",
   "mimetype": "text/x-python",
   "name": "python",
   "nbconvert_exporter": "python",
   "pygments_lexer": "ipython3",
   "version": "3.9.7"
  }
 },
 "nbformat": 4,
 "nbformat_minor": 5
}
